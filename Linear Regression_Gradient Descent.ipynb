{
 "cells": [
  {
   "cell_type": "code",
   "execution_count": 1,
   "metadata": {},
   "outputs": [],
   "source": [
    "## Importing the necessary modules\n",
    "import pandas as pd\n",
    "import numpy as np\n",
    "from sklearn.linear_model import LinearRegression"
   ]
  },
  {
   "cell_type": "code",
   "execution_count": 2,
   "metadata": {},
   "outputs": [
    {
     "data": {
      "text/html": [
       "<div>\n",
       "<style scoped>\n",
       "    .dataframe tbody tr th:only-of-type {\n",
       "        vertical-align: middle;\n",
       "    }\n",
       "\n",
       "    .dataframe tbody tr th {\n",
       "        vertical-align: top;\n",
       "    }\n",
       "\n",
       "    .dataframe thead th {\n",
       "        text-align: right;\n",
       "    }\n",
       "</style>\n",
       "<table border=\"1\" class=\"dataframe\">\n",
       "  <thead>\n",
       "    <tr style=\"text-align: right;\">\n",
       "      <th></th>\n",
       "      <th>Attr1</th>\n",
       "      <th>Attr2</th>\n",
       "      <th>Attr3</th>\n",
       "      <th>Target</th>\n",
       "    </tr>\n",
       "  </thead>\n",
       "  <tbody>\n",
       "    <tr>\n",
       "      <th>0</th>\n",
       "      <td>7.3</td>\n",
       "      <td>8.0</td>\n",
       "      <td>7.5</td>\n",
       "      <td>15.2</td>\n",
       "    </tr>\n",
       "    <tr>\n",
       "      <th>1</th>\n",
       "      <td>9.3</td>\n",
       "      <td>8.8</td>\n",
       "      <td>9.3</td>\n",
       "      <td>18.5</td>\n",
       "    </tr>\n",
       "    <tr>\n",
       "      <th>2</th>\n",
       "      <td>8.9</td>\n",
       "      <td>9.1</td>\n",
       "      <td>9.0</td>\n",
       "      <td>18.0</td>\n",
       "    </tr>\n",
       "  </tbody>\n",
       "</table>\n",
       "</div>"
      ],
      "text/plain": [
       "   Attr1  Attr2  Attr3  Target\n",
       "0    7.3    8.0    7.5    15.2\n",
       "1    9.3    8.8    9.3    18.5\n",
       "2    8.9    9.1    9.0    18.0"
      ]
     },
     "execution_count": 2,
     "metadata": {},
     "output_type": "execute_result"
    }
   ],
   "source": [
    "Data=pd.read_csv(\"Data.csv\")\n",
    "Data.head(3)"
   ]
  },
  {
   "cell_type": "code",
   "execution_count": 3,
   "metadata": {},
   "outputs": [],
   "source": [
    "data_ind= Data.iloc[:,:3]\n",
    "Y=Data.iloc[:,3]"
   ]
  },
  {
   "cell_type": "code",
   "execution_count": 4,
   "metadata": {},
   "outputs": [
    {
     "data": {
      "text/plain": [
       "LinearRegression(copy_X=True, fit_intercept=True, n_jobs=1, normalize=False)"
      ]
     },
     "execution_count": 4,
     "metadata": {},
     "output_type": "execute_result"
    }
   ],
   "source": [
    "## For a check let's solve the linear regression using least squares method\n",
    "mod=LinearRegression()\n",
    "mod.fit(data_ind,Y)"
   ]
  },
  {
   "cell_type": "code",
   "execution_count": 5,
   "metadata": {},
   "outputs": [
    {
     "name": "stdout",
     "output_type": "stream",
     "text": [
      "[0.35593822 0.54251876 1.16744422] -0.43361024012403604\n"
     ]
    }
   ],
   "source": [
    "print(mod.coef_,mod.intercept_)"
   ]
  },
  {
   "cell_type": "code",
   "execution_count": 6,
   "metadata": {},
   "outputs": [],
   "source": [
    "## Saving the coeffcients in the form of a dictionary\n",
    "parameters={'Coef: ': mod.coef_,\n",
    "    'Intercept: ': mod.intercept_}"
   ]
  },
  {
   "cell_type": "code",
   "execution_count": 7,
   "metadata": {},
   "outputs": [],
   "source": [
    "## The shape parameter defines how many coefficients are needed. These would be equal to\n",
    "## the number of features in the data. \n",
    "def intialize(shape):\n",
    "    w=np.random.randn(shape,1)\n",
    "    b=0\n",
    "    return w,b\n",
    "              \n"
   ]
  },
  {
   "cell_type": "code",
   "execution_count": 8,
   "metadata": {},
   "outputs": [
    {
     "name": "stdout",
     "output_type": "stream",
     "text": [
      "(3, 25)\n"
     ]
    }
   ],
   "source": [
    "# Creating the shape of the data- attributes as rows and samples as columns\n",
    "train=data_ind.T\n",
    "print(train.shape)"
   ]
  },
  {
   "cell_type": "code",
   "execution_count": 9,
   "metadata": {},
   "outputs": [
    {
     "name": "stdout",
     "output_type": "stream",
     "text": [
      "[[-0.3467289 ]\n",
      " [ 2.04584873]\n",
      " [ 1.86460668]] 0\n",
      "(3, 1)\n",
      "(3, 25)\n"
     ]
    }
   ],
   "source": [
    "# Checking the shapes of the weight vector and the train data \n",
    "w,b=intialize(train.shape[0])\n",
    "print(w,b)\n",
    "print(w.shape)\n",
    "print(train.shape)"
   ]
  },
  {
   "cell_type": "code",
   "execution_count": 10,
   "metadata": {},
   "outputs": [
    {
     "name": "stdout",
     "output_type": "stream",
     "text": [
      "(1, 25)\n"
     ]
    }
   ],
   "source": [
    "Y=np.array(Y).reshape(1,25)\n",
    "print(Y.shape)"
   ]
  },
  {
   "cell_type": "code",
   "execution_count": 11,
   "metadata": {},
   "outputs": [],
   "source": [
    "## With the initiated W and b we compute the predictions and from them the cost function is calculated\n",
    "def cost(w,b,X,y):\n",
    "    m=X.shape[1]\n",
    "    yhat= np.dot(w.T,X)+b\n",
    "    J=(1/(2*m))*np.sum((y-yhat)**2)\n",
    "    dw=(-1 / m) * np.dot(X, (y-yhat).T)\n",
    "    db=(-1/m)*np.sum(y-yhat)\n",
    "    J=np.squeeze(J)\n",
    "    assert(dw.shape==w.shape)\n",
    "    \n",
    "    gradients={'weights': dw,\n",
    "              'Constant':db}\n",
    "    return gradients,J"
   ]
  },
  {
   "cell_type": "code",
   "execution_count": 12,
   "metadata": {},
   "outputs": [],
   "source": [
    "#Now optimize the w's and b such that we can get a best fit line with reduced cost function value\n",
    "def optimize(w,b,X,y,iterations,learning_rate):\n",
    "    costs=[]\n",
    "    for i in range(iterations):\n",
    "        gradients,J= cost(w,b,X,y)\n",
    "        #print(gradients['weights'])\n",
    "        dw=gradients['weights']\n",
    "        #print(dw)\n",
    "        db=gradients['Constant']\n",
    "        w=w -(learning_rate*dw)\n",
    "        b=b-(learning_rate*db)\n",
    "        costs.append(J)\n",
    "    params = {\"Coef\": w,\n",
    "              \"Intercept\": b}\n",
    "    \n",
    "    gradients = {\"weights\": dw,\n",
    "             \"Constant\": db}\n",
    "    \n",
    "    return params, gradients, costs\n",
    "\n",
    "    "
   ]
  },
  {
   "cell_type": "code",
   "execution_count": 18,
   "metadata": {},
   "outputs": [],
   "source": [
    "w,b=intialize(train.shape[0])\n",
    "params, gradients, costs = optimize(X=train, y=Y,w=w,b=b, iterations= 10000, learning_rate = 0.01)"
   ]
  },
  {
   "cell_type": "code",
   "execution_count": 19,
   "metadata": {},
   "outputs": [
    {
     "data": {
      "text/plain": [
       "{'Coef': array([[0.35663591],\n",
       "        [0.53974363],\n",
       "        [1.15782536]]), 'Intercept': -0.33684636745112384}"
      ]
     },
     "execution_count": 19,
     "metadata": {},
     "output_type": "execute_result"
    }
   ],
   "source": [
    "params"
   ]
  },
  {
   "cell_type": "code",
   "execution_count": null,
   "metadata": {},
   "outputs": [],
   "source": [
    "costs[-1]"
   ]
  },
  {
   "cell_type": "code",
   "execution_count": null,
   "metadata": {},
   "outputs": [],
   "source": []
  }
 ],
 "metadata": {
  "kernelspec": {
   "display_name": "Python 3",
   "language": "python",
   "name": "python3"
  },
  "language_info": {
   "codemirror_mode": {
    "name": "ipython",
    "version": 3
   },
   "file_extension": ".py",
   "mimetype": "text/x-python",
   "name": "python",
   "nbconvert_exporter": "python",
   "pygments_lexer": "ipython3",
   "version": "3.6.4"
  }
 },
 "nbformat": 4,
 "nbformat_minor": 2
}
